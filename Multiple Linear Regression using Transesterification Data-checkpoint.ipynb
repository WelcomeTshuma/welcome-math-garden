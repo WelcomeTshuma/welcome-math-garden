{
 "cells": [
  {
   "cell_type": "code",
   "execution_count": 11,
   "id": "9334321b",
   "metadata": {},
   "outputs": [],
   "source": [
    "import pandas as pd\n",
    "import matplotlib.pyplot as plt\n",
    "from sklearn.linear_model import LinearRegression\n",
    "import numpy as np\n",
    "from pandas.plotting import scatter_matrix\n"
   ]
  },
  {
   "cell_type": "code",
   "execution_count": 2,
   "id": "f13b5a21",
   "metadata": {},
   "outputs": [
    {
     "data": {
      "text/html": [
       "<div>\n",
       "<style scoped>\n",
       "    .dataframe tbody tr th:only-of-type {\n",
       "        vertical-align: middle;\n",
       "    }\n",
       "\n",
       "    .dataframe tbody tr th {\n",
       "        vertical-align: top;\n",
       "    }\n",
       "\n",
       "    .dataframe thead th {\n",
       "        text-align: right;\n",
       "    }\n",
       "</style>\n",
       "<table border=\"1\" class=\"dataframe\">\n",
       "  <thead>\n",
       "    <tr style=\"text-align: right;\">\n",
       "      <th></th>\n",
       "      <th>Methanol/Oil Molar Ratio (Mr)</th>\n",
       "      <th>CatalystWeight (Wc)</th>\n",
       "      <th>Reaction Temperature (T)</th>\n",
       "      <th>Reaction Time (Tr)</th>\n",
       "      <th>Yield (%)</th>\n",
       "    </tr>\n",
       "  </thead>\n",
       "  <tbody>\n",
       "    <tr>\n",
       "      <th>0</th>\n",
       "      <td>5</td>\n",
       "      <td>0.7</td>\n",
       "      <td>35</td>\n",
       "      <td>45</td>\n",
       "      <td>93.30</td>\n",
       "    </tr>\n",
       "    <tr>\n",
       "      <th>1</th>\n",
       "      <td>6</td>\n",
       "      <td>1.0</td>\n",
       "      <td>65</td>\n",
       "      <td>30</td>\n",
       "      <td>95.88</td>\n",
       "    </tr>\n",
       "    <tr>\n",
       "      <th>2</th>\n",
       "      <td>5</td>\n",
       "      <td>0.7</td>\n",
       "      <td>50</td>\n",
       "      <td>30</td>\n",
       "      <td>96.62</td>\n",
       "    </tr>\n",
       "    <tr>\n",
       "      <th>3</th>\n",
       "      <td>5</td>\n",
       "      <td>1.0</td>\n",
       "      <td>50</td>\n",
       "      <td>45</td>\n",
       "      <td>94.90</td>\n",
       "    </tr>\n",
       "    <tr>\n",
       "      <th>4</th>\n",
       "      <td>6</td>\n",
       "      <td>0.4</td>\n",
       "      <td>35</td>\n",
       "      <td>30</td>\n",
       "      <td>96.40</td>\n",
       "    </tr>\n",
       "    <tr>\n",
       "      <th>5</th>\n",
       "      <td>4</td>\n",
       "      <td>1.0</td>\n",
       "      <td>65</td>\n",
       "      <td>60</td>\n",
       "      <td>92.26</td>\n",
       "    </tr>\n",
       "    <tr>\n",
       "      <th>6</th>\n",
       "      <td>6</td>\n",
       "      <td>0.4</td>\n",
       "      <td>35</td>\n",
       "      <td>60</td>\n",
       "      <td>96.84</td>\n",
       "    </tr>\n",
       "    <tr>\n",
       "      <th>7</th>\n",
       "      <td>5</td>\n",
       "      <td>0.7</td>\n",
       "      <td>50</td>\n",
       "      <td>45</td>\n",
       "      <td>94.22</td>\n",
       "    </tr>\n",
       "    <tr>\n",
       "      <th>8</th>\n",
       "      <td>4</td>\n",
       "      <td>1.0</td>\n",
       "      <td>35</td>\n",
       "      <td>60</td>\n",
       "      <td>91.04</td>\n",
       "    </tr>\n",
       "    <tr>\n",
       "      <th>9</th>\n",
       "      <td>4</td>\n",
       "      <td>0.4</td>\n",
       "      <td>35</td>\n",
       "      <td>60</td>\n",
       "      <td>84.14</td>\n",
       "    </tr>\n",
       "    <tr>\n",
       "      <th>10</th>\n",
       "      <td>4</td>\n",
       "      <td>0.7</td>\n",
       "      <td>50</td>\n",
       "      <td>45</td>\n",
       "      <td>95.90</td>\n",
       "    </tr>\n",
       "    <tr>\n",
       "      <th>11</th>\n",
       "      <td>6</td>\n",
       "      <td>0.4</td>\n",
       "      <td>65</td>\n",
       "      <td>60</td>\n",
       "      <td>98.10</td>\n",
       "    </tr>\n",
       "    <tr>\n",
       "      <th>12</th>\n",
       "      <td>6</td>\n",
       "      <td>1.0</td>\n",
       "      <td>35</td>\n",
       "      <td>30</td>\n",
       "      <td>96.86</td>\n",
       "    </tr>\n",
       "    <tr>\n",
       "      <th>13</th>\n",
       "      <td>6</td>\n",
       "      <td>1.0</td>\n",
       "      <td>35</td>\n",
       "      <td>60</td>\n",
       "      <td>98.72</td>\n",
       "    </tr>\n",
       "    <tr>\n",
       "      <th>14</th>\n",
       "      <td>5</td>\n",
       "      <td>0.7</td>\n",
       "      <td>50</td>\n",
       "      <td>45</td>\n",
       "      <td>96.66</td>\n",
       "    </tr>\n",
       "    <tr>\n",
       "      <th>15</th>\n",
       "      <td>6</td>\n",
       "      <td>1.0</td>\n",
       "      <td>65</td>\n",
       "      <td>60</td>\n",
       "      <td>95.50</td>\n",
       "    </tr>\n",
       "    <tr>\n",
       "      <th>16</th>\n",
       "      <td>5</td>\n",
       "      <td>0.4</td>\n",
       "      <td>50</td>\n",
       "      <td>45</td>\n",
       "      <td>94.58</td>\n",
       "    </tr>\n",
       "    <tr>\n",
       "      <th>17</th>\n",
       "      <td>6</td>\n",
       "      <td>0.7</td>\n",
       "      <td>50</td>\n",
       "      <td>45</td>\n",
       "      <td>99.54</td>\n",
       "    </tr>\n",
       "    <tr>\n",
       "      <th>18</th>\n",
       "      <td>5</td>\n",
       "      <td>0.7</td>\n",
       "      <td>50</td>\n",
       "      <td>60</td>\n",
       "      <td>95.68</td>\n",
       "    </tr>\n",
       "    <tr>\n",
       "      <th>19</th>\n",
       "      <td>4</td>\n",
       "      <td>1.0</td>\n",
       "      <td>35</td>\n",
       "      <td>30</td>\n",
       "      <td>94.86</td>\n",
       "    </tr>\n",
       "    <tr>\n",
       "      <th>20</th>\n",
       "      <td>6</td>\n",
       "      <td>0.4</td>\n",
       "      <td>65</td>\n",
       "      <td>30</td>\n",
       "      <td>98.41</td>\n",
       "    </tr>\n",
       "    <tr>\n",
       "      <th>21</th>\n",
       "      <td>4</td>\n",
       "      <td>0.4</td>\n",
       "      <td>35</td>\n",
       "      <td>30</td>\n",
       "      <td>85.88</td>\n",
       "    </tr>\n",
       "    <tr>\n",
       "      <th>22</th>\n",
       "      <td>5</td>\n",
       "      <td>0.7</td>\n",
       "      <td>50</td>\n",
       "      <td>45</td>\n",
       "      <td>96.86</td>\n",
       "    </tr>\n",
       "    <tr>\n",
       "      <th>23</th>\n",
       "      <td>4</td>\n",
       "      <td>0.4</td>\n",
       "      <td>65</td>\n",
       "      <td>30</td>\n",
       "      <td>96.48</td>\n",
       "    </tr>\n",
       "    <tr>\n",
       "      <th>24</th>\n",
       "      <td>5</td>\n",
       "      <td>0.7</td>\n",
       "      <td>65</td>\n",
       "      <td>45</td>\n",
       "      <td>94.52</td>\n",
       "    </tr>\n",
       "    <tr>\n",
       "      <th>25</th>\n",
       "      <td>4</td>\n",
       "      <td>0.4</td>\n",
       "      <td>65</td>\n",
       "      <td>60</td>\n",
       "      <td>92.26</td>\n",
       "    </tr>\n",
       "    <tr>\n",
       "      <th>26</th>\n",
       "      <td>5</td>\n",
       "      <td>0.7</td>\n",
       "      <td>50</td>\n",
       "      <td>45</td>\n",
       "      <td>96.14</td>\n",
       "    </tr>\n",
       "    <tr>\n",
       "      <th>27</th>\n",
       "      <td>4</td>\n",
       "      <td>1.0</td>\n",
       "      <td>65</td>\n",
       "      <td>30</td>\n",
       "      <td>89.32</td>\n",
       "    </tr>\n",
       "    <tr>\n",
       "      <th>28</th>\n",
       "      <td>5</td>\n",
       "      <td>0.7</td>\n",
       "      <td>50</td>\n",
       "      <td>45</td>\n",
       "      <td>96.18</td>\n",
       "    </tr>\n",
       "  </tbody>\n",
       "</table>\n",
       "</div>"
      ],
      "text/plain": [
       "    Methanol/Oil Molar Ratio (Mr)   CatalystWeight (Wc)  \\\n",
       "0                               5                   0.7   \n",
       "1                               6                   1.0   \n",
       "2                               5                   0.7   \n",
       "3                               5                   1.0   \n",
       "4                               6                   0.4   \n",
       "5                               4                   1.0   \n",
       "6                               6                   0.4   \n",
       "7                               5                   0.7   \n",
       "8                               4                   1.0   \n",
       "9                               4                   0.4   \n",
       "10                              4                   0.7   \n",
       "11                              6                   0.4   \n",
       "12                              6                   1.0   \n",
       "13                              6                   1.0   \n",
       "14                              5                   0.7   \n",
       "15                              6                   1.0   \n",
       "16                              5                   0.4   \n",
       "17                              6                   0.7   \n",
       "18                              5                   0.7   \n",
       "19                              4                   1.0   \n",
       "20                              6                   0.4   \n",
       "21                              4                   0.4   \n",
       "22                              5                   0.7   \n",
       "23                              4                   0.4   \n",
       "24                              5                   0.7   \n",
       "25                              4                   0.4   \n",
       "26                              5                   0.7   \n",
       "27                              4                   1.0   \n",
       "28                              5                   0.7   \n",
       "\n",
       "     Reaction Temperature (T)   Reaction Time (Tr)   Yield (%)  \n",
       "0                          35                   45       93.30  \n",
       "1                          65                   30       95.88  \n",
       "2                          50                   30       96.62  \n",
       "3                          50                   45       94.90  \n",
       "4                          35                   30       96.40  \n",
       "5                          65                   60       92.26  \n",
       "6                          35                   60       96.84  \n",
       "7                          50                   45       94.22  \n",
       "8                          35                   60       91.04  \n",
       "9                          35                   60       84.14  \n",
       "10                         50                   45       95.90  \n",
       "11                         65                   60       98.10  \n",
       "12                         35                   30       96.86  \n",
       "13                         35                   60       98.72  \n",
       "14                         50                   45       96.66  \n",
       "15                         65                   60       95.50  \n",
       "16                         50                   45       94.58  \n",
       "17                         50                   45       99.54  \n",
       "18                         50                   60       95.68  \n",
       "19                         35                   30       94.86  \n",
       "20                         65                   30       98.41  \n",
       "21                         35                   30       85.88  \n",
       "22                         50                   45       96.86  \n",
       "23                         65                   30       96.48  \n",
       "24                         65                   45       94.52  \n",
       "25                         65                   60       92.26  \n",
       "26                         50                   45       96.14  \n",
       "27                         65                   30       89.32  \n",
       "28                         50                   45       96.18  "
      ]
     },
     "execution_count": 2,
     "metadata": {},
     "output_type": "execute_result"
    }
   ],
   "source": [
    "data=pd.read_csv(\"Transesterification data.csv\")\n",
    "data"
   ]
  },
  {
   "cell_type": "code",
   "execution_count": 4,
   "id": "7c9a5dd8",
   "metadata": {},
   "outputs": [
    {
     "name": "stdout",
     "output_type": "stream",
     "text": [
      "<class 'pandas.core.frame.DataFrame'>\n",
      "RangeIndex: 29 entries, 0 to 28\n",
      "Data columns (total 5 columns):\n",
      " #   Column                         Non-Null Count  Dtype  \n",
      "---  ------                         --------------  -----  \n",
      " 0   Methanol/Oil Molar Ratio (Mr)  29 non-null     int64  \n",
      " 1    CatalystWeight (Wc)           29 non-null     float64\n",
      " 2    Reaction Temperature (T)      29 non-null     int64  \n",
      " 3    Reaction Time (Tr)            29 non-null     int64  \n",
      " 4    Yield (%)                     29 non-null     float64\n",
      "dtypes: float64(2), int64(3)\n",
      "memory usage: 1.3 KB\n"
     ]
    }
   ],
   "source": [
    "data.info()"
   ]
  },
  {
   "cell_type": "code",
   "execution_count": 9,
   "id": "27ed405a",
   "metadata": {},
   "outputs": [
    {
     "data": {
      "text/plain": [
       "5    11\n",
       "6     9\n",
       "4     9\n",
       "Name: Methanol/Oil Molar Ratio (Mr), dtype: int64"
      ]
     },
     "execution_count": 9,
     "metadata": {},
     "output_type": "execute_result"
    }
   ],
   "source": [
    "data[\"Methanol/Oil Molar Ratio (Mr)\"].value_counts()\n"
   ]
  },
  {
   "cell_type": "code",
   "execution_count": 10,
   "id": "46d56f18",
   "metadata": {},
   "outputs": [
    {
     "data": {
      "text/html": [
       "<div>\n",
       "<style scoped>\n",
       "    .dataframe tbody tr th:only-of-type {\n",
       "        vertical-align: middle;\n",
       "    }\n",
       "\n",
       "    .dataframe tbody tr th {\n",
       "        vertical-align: top;\n",
       "    }\n",
       "\n",
       "    .dataframe thead th {\n",
       "        text-align: right;\n",
       "    }\n",
       "</style>\n",
       "<table border=\"1\" class=\"dataframe\">\n",
       "  <thead>\n",
       "    <tr style=\"text-align: right;\">\n",
       "      <th></th>\n",
       "      <th>Methanol/Oil Molar Ratio (Mr)</th>\n",
       "      <th>CatalystWeight (Wc)</th>\n",
       "      <th>Reaction Temperature (T)</th>\n",
       "      <th>Reaction Time (Tr)</th>\n",
       "      <th>Yield (%)</th>\n",
       "    </tr>\n",
       "  </thead>\n",
       "  <tbody>\n",
       "    <tr>\n",
       "      <th>Methanol/Oil Molar Ratio (Mr)</th>\n",
       "      <td>1.000000e+00</td>\n",
       "      <td>-1.130783e-16</td>\n",
       "      <td>-1.184238e-16</td>\n",
       "      <td>-6.579099e-17</td>\n",
       "      <td>0.684806</td>\n",
       "    </tr>\n",
       "    <tr>\n",
       "      <th>CatalystWeight (Wc)</th>\n",
       "      <td>-1.130783e-16</td>\n",
       "      <td>1.000000e+00</td>\n",
       "      <td>-2.083381e-16</td>\n",
       "      <td>2.193033e-17</td>\n",
       "      <td>0.079099</td>\n",
       "    </tr>\n",
       "    <tr>\n",
       "      <th>Reaction Temperature (T)</th>\n",
       "      <td>-1.184238e-16</td>\n",
       "      <td>-2.083381e-16</td>\n",
       "      <td>1.000000e+00</td>\n",
       "      <td>7.017706e-18</td>\n",
       "      <td>0.185914</td>\n",
       "    </tr>\n",
       "    <tr>\n",
       "      <th>Reaction Time (Tr)</th>\n",
       "      <td>-6.579099e-17</td>\n",
       "      <td>2.193033e-17</td>\n",
       "      <td>7.017706e-18</td>\n",
       "      <td>1.000000e+00</td>\n",
       "      <td>-0.078086</td>\n",
       "    </tr>\n",
       "    <tr>\n",
       "      <th>Yield (%)</th>\n",
       "      <td>6.848061e-01</td>\n",
       "      <td>7.909884e-02</td>\n",
       "      <td>1.859139e-01</td>\n",
       "      <td>-7.808637e-02</td>\n",
       "      <td>1.000000</td>\n",
       "    </tr>\n",
       "  </tbody>\n",
       "</table>\n",
       "</div>"
      ],
      "text/plain": [
       "                               Methanol/Oil Molar Ratio (Mr)  \\\n",
       "Methanol/Oil Molar Ratio (Mr)                   1.000000e+00   \n",
       " CatalystWeight (Wc)                           -1.130783e-16   \n",
       " Reaction Temperature (T)                      -1.184238e-16   \n",
       " Reaction Time (Tr)                            -6.579099e-17   \n",
       " Yield (%)                                      6.848061e-01   \n",
       "\n",
       "                                CatalystWeight (Wc)  \\\n",
       "Methanol/Oil Molar Ratio (Mr)         -1.130783e-16   \n",
       " CatalystWeight (Wc)                   1.000000e+00   \n",
       " Reaction Temperature (T)             -2.083381e-16   \n",
       " Reaction Time (Tr)                    2.193033e-17   \n",
       " Yield (%)                             7.909884e-02   \n",
       "\n",
       "                                Reaction Temperature (T)   Reaction Time (Tr)  \\\n",
       "Methanol/Oil Molar Ratio (Mr)              -1.184238e-16        -6.579099e-17   \n",
       " CatalystWeight (Wc)                       -2.083381e-16         2.193033e-17   \n",
       " Reaction Temperature (T)                   1.000000e+00         7.017706e-18   \n",
       " Reaction Time (Tr)                         7.017706e-18         1.000000e+00   \n",
       " Yield (%)                                  1.859139e-01        -7.808637e-02   \n",
       "\n",
       "                                Yield (%)  \n",
       "Methanol/Oil Molar Ratio (Mr)    0.684806  \n",
       " CatalystWeight (Wc)             0.079099  \n",
       " Reaction Temperature (T)        0.185914  \n",
       " Reaction Time (Tr)             -0.078086  \n",
       " Yield (%)                       1.000000  "
      ]
     },
     "execution_count": 10,
     "metadata": {},
     "output_type": "execute_result"
    }
   ],
   "source": [
    "data.corr()"
   ]
  },
  {
   "cell_type": "code",
   "execution_count": 14,
   "id": "5711cd50",
   "metadata": {},
   "outputs": [
    {
     "data": {
      "text/plain": [
       "<Figure size 1440x1080 with 0 Axes>"
      ]
     },
     "metadata": {},
     "output_type": "display_data"
    },
    {
     "data": {
      "image/png": "[encoded data removed]",
      "text/plain": [
       "<Figure size 432x288 with 25 Axes>"
      ]
     },
     "metadata": {
      "needs_background": "light"
     },
     "output_type": "display_data"
    }
   ],
   "source": [
    "plt.figure(figsize=[20,15])\n",
    "scatter_matrix(data)\n",
    "plt.show()"
   ]
  },
  {
   "cell_type": "markdown",
   "id": "b085348c",
   "metadata": {},
   "source": [
    "## Regression using the Normal Equation"
   ]
  },
  {
   "cell_type": "code",
   "execution_count": 19,
   "id": "f376b0ec",
   "metadata": {},
   "outputs": [
    {
     "data": {
      "text/plain": [
       "(29, 1)"
      ]
     },
     "execution_count": 19,
     "metadata": {},
     "output_type": "execute_result"
    }
   ],
   "source": [
    "ones_array=np.ones((data.shape[0],1))\n",
    "ones_array.shape"
   ]
  },
  {
   "cell_type": "code",
   "execution_count": 26,
   "id": "59abab37",
   "metadata": {},
   "outputs": [],
   "source": [
    "X_train_b=np.c_[ones_array,data.iloc[:,:-1]]\n"
   ]
  },
  {
   "cell_type": "code",
   "execution_count": 29,
   "id": "5f504187",
   "metadata": {},
   "outputs": [],
   "source": [
    "y_train=data.iloc[:,-1]\n"
   ]
  },
  {
   "cell_type": "code",
   "execution_count": 31,
   "id": "f035ba5c",
   "metadata": {},
   "outputs": [
    {
     "data": {
      "text/plain": [
       "array([ 7.72275670e+01,  3.00611111e+00,  1.15740741e+00,  5.44074074e-02,\n",
       "       -2.28518519e-02])"
      ]
     },
     "execution_count": 31,
     "metadata": {},
     "output_type": "execute_result"
    }
   ],
   "source": [
    "best_beta=np.linalg.inv(X_train_b.T.dot(X_train_b)).dot(X_train_b.T.dot(y_train)) # Regression coefficients using Normal equation\n",
    "best_beta"
   ]
  },
  {
   "cell_type": "markdown",
   "id": "2c248eaf",
   "metadata": {},
   "source": [
    "## Regression using LinearRegression Class Estimator"
   ]
  },
  {
   "cell_type": "code",
   "execution_count": 33,
   "id": "16c4f9e3",
   "metadata": {},
   "outputs": [
    {
     "data": {
      "text/plain": [
       "LinearRegression()"
      ]
     },
     "execution_count": 33,
     "metadata": {},
     "output_type": "execute_result"
    }
   ],
   "source": [
    "regr=LinearRegression()\n",
    "regr.fit(data.iloc[:,:-1],data.iloc[:,-1])"
   ]
  },
  {
   "cell_type": "code",
   "execution_count": 34,
   "id": "83edc236",
   "metadata": {},
   "outputs": [
    {
     "data": {
      "text/plain": [
       "array([ 3.00611111,  1.15740741,  0.05440741, -0.02285185])"
      ]
     },
     "execution_count": 34,
     "metadata": {},
     "output_type": "execute_result"
    }
   ],
   "source": [
    "regr.coef_"
   ]
  },
  {
   "cell_type": "code",
   "execution_count": 38,
   "id": "fd9ed63a",
   "metadata": {},
   "outputs": [
    {
     "data": {
      "text/plain": [
       "0.5158774760053848"
      ]
     },
     "execution_count": 38,
     "metadata": {},
     "output_type": "execute_result"
    }
   ],
   "source": [
    "regr.score(data.iloc[:,:-1],data.iloc[:,-1])"
   ]
  },
  {
   "cell_type": "code",
   "execution_count": null,
   "id": "d24048b3",
   "metadata": {},
   "outputs": [],
   "source": []
  }
 ],
 "metadata": {
  "kernelspec": {
   "display_name": "Python 3 (ipykernel)",
   "language": "python",
   "name": "python3"
  },
  "language_info": {
   "codemirror_mode": {
    "name": "ipython",
    "version": 3
   },
   "file_extension": ".py",
   "mimetype": "text/x-python",
   "name": "python",
   "nbconvert_exporter": "python",
   "pygments_lexer": "ipython3",
   "version": "3.9.12"
  }
 },
 "nbformat": 4,
 "nbformat_minor": 5
}
